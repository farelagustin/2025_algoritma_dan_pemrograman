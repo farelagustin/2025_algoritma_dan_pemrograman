{
  "nbformat": 4,
  "nbformat_minor": 0,
  "metadata": {
    "colab": {
      "provenance": [],
      "authorship_tag": "ABX9TyNvY5FRvYTZWtki7yFPBP4Y",
      "include_colab_link": true
    },
    "kernelspec": {
      "name": "python3",
      "display_name": "Python 3"
    },
    "language_info": {
      "name": "python"
    }
  },
  "cells": [
    {
      "cell_type": "markdown",
      "metadata": {
        "id": "view-in-github",
        "colab_type": "text"
      },
      "source": [
        "<a href=\"https://colab.research.google.com/github/farelagustin/2025_algoritma_dan_pemrograman/blob/main/Jobsheet_02.ipynb\" target=\"_parent\"><img src=\"https://colab.research.google.com/assets/colab-badge.svg\" alt=\"Open In Colab\"/></a>"
      ]
    },
    {
      "cell_type": "markdown",
      "source": [
        "#Praktikum 01: Pengenalan Variabel dan Tipe Data"
      ],
      "metadata": {
        "id": "UIubUpFnXWiu"
      }
    },
    {
      "cell_type": "code",
      "execution_count": null,
      "metadata": {
        "id": "74EZTQAG1yze",
        "colab": {
          "base_uri": "https://localhost:8080/"
        },
        "outputId": "15a479b1-d8f7-4ebb-8f8b-f030517986ae"
      },
      "outputs": [
        {
          "output_type": "stream",
          "name": "stdout",
          "text": [
            "Umur: 20 → <class 'int'>\n",
            "Tinggi: 170.5 → <class 'float'>\n",
            "Nama: Andi → <class 'str'>\n",
            "Status Mahasiswa: True → <class 'bool'>\n",
            "Nilai: [80, 85, 90] → <class 'list'>\n",
            "Koordinat: (10, 20) → <class 'tuple'>\n",
            "Data Mahasiswa: {'nama': 'Andi', 'umur': 20, 'prodi': 'TRK'} → <class 'dict'>\n",
            "Hobi: {'membaca', 'musik', 'olahraga'} → <class 'set'>\n"
          ]
        }
      ],
      "source": [
        "# Integer\n",
        "umur = 20\n",
        "print(\"Umur:\", umur, \"→\", type(umur))\n",
        "\n",
        "# Float\n",
        "tinggi = 170.5\n",
        "print(\"Tinggi:\", tinggi, \"→\", type(tinggi))\n",
        "\n",
        "# String\n",
        "nama = \"Andi\"\n",
        "print(\"Nama:\", nama, \"→\", type(nama))\n",
        "\n",
        "# Boolean\n",
        "is_mahasiswa = True\n",
        "print(\"Status Mahasiswa:\", is_mahasiswa, \"→\", type(is_mahasiswa))\n",
        "\n",
        "# List\n",
        "nilai = [80, 85, 90]\n",
        "print(\"Nilai:\", nilai, \"→\", type(nilai))\n",
        "\n",
        "# Tuple\n",
        "koordinat = (10, 20)\n",
        "print(\"Koordinat:\", koordinat, \"→\", type(koordinat))\n",
        "\n",
        "# Dictionary\n",
        "mahasiswa = {\"nama\": \"Andi\", \"umur\": 20, \"prodi\": \"TRK\"}\n",
        "print(\"Data Mahasiswa:\", mahasiswa, \"→\", type(mahasiswa))\n",
        "\n",
        "# Set\n",
        "hobi = {\"membaca\", \"olahraga\", \"musik\"}\n",
        "print(\"Hobi:\", hobi, \"→\", type(hobi))"
      ]
    },
    {
      "cell_type": "markdown",
      "source": [
        "#Praktikum 02: Input dan Output Dasar"
      ],
      "metadata": {
        "id": "khDT60THbNI_"
      }
    },
    {
      "cell_type": "code",
      "source": [
        "# Input string\n",
        "nama = input(\"Masukkan nama Anda: \")\n",
        "\n",
        "# Input integer\n",
        "umur = int(input(\"Masukkan umur Anda: \"))\n",
        "\n",
        "# Input float\n",
        "tinggi = float(input(\"Masukkan tinggi badan (cm): \"))\n",
        "\n",
        "# Output standar\n",
        "print(\"Halo,\", nama, \"umur Anda:\", umur, \"tahun, tinggi:\", tinggi, \"cm\")\n",
        "\n",
        "# Output dengan format()\n",
        "print(\"Halo {0}, umur Anda {1} tahun, tinggi {2} cm\".format(nama, umur, tinggi))\n",
        "\n",
        "# Output dengan f-string\n",
        "print(f\"Halo {nama}, umur Anda {umur} tahun, tinggi {tinggi} cm\")"
      ],
      "metadata": {
        "id": "SAWlvnuPYUhi",
        "colab": {
          "base_uri": "https://localhost:8080/"
        },
        "outputId": "bc83550e-cc74-40d4-e7da-f3b799478afc"
      },
      "execution_count": null,
      "outputs": [
        {
          "output_type": "stream",
          "name": "stdout",
          "text": [
            "Masukkan nama Anda: Moh Farel Agustin\n",
            "Masukkan umur Anda: 18\n",
            "Masukkan tinggi badan (cm): 170\n",
            "Halo, Moh Farel Agustin umur Anda: 18 tahun, tinggi: 170.0 cm\n",
            "Halo Moh Farel Agustin, umur Anda 18 tahun, tinggi 170.0 cm\n",
            "Halo Moh Farel Agustin, umur Anda 18 tahun, tinggi 170.0 cm\n"
          ]
        }
      ]
    },
    {
      "cell_type": "markdown",
      "source": [
        "#Praktikum 03: Operator Aritmatika"
      ],
      "metadata": {
        "id": "fnpWrdH6FxMp"
      }
    },
    {
      "cell_type": "code",
      "source": [
        "a = 15\n",
        "b = 4\n",
        "\n",
        "print(\"a + b =\", a + b)\n",
        "print(\"a - b =\", a - b)\n",
        "print(\"a * b =\", a * b)\n",
        "print(\"a / b =\", a / b)\n",
        "print(\"a // b =\", a // b)\n",
        "print(\"a % b =\", a % b)\n",
        "print(\"a ** b =\", a ** b)"
      ],
      "metadata": {
        "colab": {
          "base_uri": "https://localhost:8080/"
        },
        "id": "HUglJxZgG_Cr",
        "outputId": "6db474a8-35af-42b0-b4a4-4939e51ebd96"
      },
      "execution_count": null,
      "outputs": [
        {
          "output_type": "stream",
          "name": "stdout",
          "text": [
            "a + b = 19\n",
            "a - b = 11\n",
            "a * b = 60\n",
            "a / b = 3.75\n",
            "a // b = 3\n",
            "a % b = 3\n",
            "a ** b = 50625\n"
          ]
        }
      ]
    },
    {
      "cell_type": "markdown",
      "source": [
        "#Praktikum 04: Operator Relasional"
      ],
      "metadata": {
        "id": "SWZje_zyIUXn"
      }
    },
    {
      "cell_type": "code",
      "source": [
        "x = 10\n",
        "y = 20\n",
        "\n",
        "print(\"x == y :\", x == y)\n",
        "print(\"x != y :\", x != y)\n",
        "print(\"x < y  :\", x < y)\n",
        "print(\"x > y  :\", x > y)\n",
        "print(\"x <= y :\", x <= y)\n",
        "print(\"x >= y :\", x >= y)"
      ],
      "metadata": {
        "colab": {
          "base_uri": "https://localhost:8080/"
        },
        "id": "-9X0kMo5IYwA",
        "outputId": "6bad9af9-0211-4cac-b03a-6198405b04dc"
      },
      "execution_count": null,
      "outputs": [
        {
          "output_type": "stream",
          "name": "stdout",
          "text": [
            "x == y : False\n",
            "x != y : True\n",
            "x < y  : True\n",
            "x > y  : False\n",
            "x <= y : True\n",
            "x >= y : False\n"
          ]
        }
      ]
    },
    {
      "cell_type": "markdown",
      "source": [
        "#Praktikum 05: Operator Logika dengan Studi Kasus Nyata"
      ],
      "metadata": {
        "id": "6eE7eVKwJebt"
      }
    },
    {
      "cell_type": "code",
      "source": [
        "# Operator logika dasar\n",
        "a = True\n",
        "b = False\n",
        "\n",
        "print(\"a and b =\", a and b)\n",
        "print(\"a or b  =\", a or b)\n",
        "print(\"not a   =\", not a)\n",
        "\n",
        "# Studi kasus nyata: kelulusan\n",
        "nilai = int(input(\"Masukkan nilai ujian: \"))\n",
        "hadir = int(input(\"Masukkan jumlah kehadiran: \"))\n",
        "\n",
        "lulus_nilai = nilai >= 60\n",
        "lulus_hadir = hadir >= 12 # dari 16 pertemuan\n",
        "\n",
        "if lulus_nilai and lulus_hadir:\n",
        "  print(\"Status: LULUS\")\n",
        "else:\n",
        "    print(\"Status: TIDAK LULUS\")"
      ],
      "metadata": {
        "colab": {
          "base_uri": "https://localhost:8080/"
        },
        "id": "ZM66ICpgJoz8",
        "outputId": "779118c3-7ad6-4434-8f1b-b0ae07233373"
      },
      "execution_count": null,
      "outputs": [
        {
          "output_type": "stream",
          "name": "stdout",
          "text": [
            "a and b = False\n",
            "a or b  = True\n",
            "not a   = False\n",
            "Masukkan nilai ujian: 90\n",
            "Masukkan jumlah kehadiran: 16\n",
            "Status: LULUS\n"
          ]
        }
      ]
    },
    {
      "cell_type": "markdown",
      "source": [
        "#Praktikum 06: Program Kasir Sederhana"
      ],
      "metadata": {
        "id": "8bdgpncCK7jJ"
      }
    },
    {
      "cell_type": "code",
      "source": [
        "barang = input(\"Masukkan nama barang: \")\n",
        "harga = float(input(\"Masukkan harga barang: \"))\n",
        "jumlah = int(input(\"Masukkan jumlah barang: \"))\n",
        "\n",
        "total = harga * jumlah\n",
        "\n",
        "# Aturan diskon\n",
        "if total >= 500000:\n",
        "  diskon = 0.2\n",
        "elif total >= 250000:\n",
        "  diskon = 0.1\n",
        "else:\n",
        "  diskon = 0\n",
        "\n",
        "potongan = total * diskon\n",
        "bayar = total - potongan\n",
        "\n",
        "print(\"\\n===== Struk Belanja =====\")\n",
        "print(f\"Barang : {barang}\")\n",
        "print(f\"Jumlah : {jumlah}\")\n",
        "print(f\"Total  : Rp {total}\")\n",
        "print(f\"Diskon : {diskon * 100}%\")\n",
        "print(f\"Bayar  : Rp {bayar}\")"
      ],
      "metadata": {
        "colab": {
          "base_uri": "https://localhost:8080/"
        },
        "id": "I4XOKZBRLGAy",
        "outputId": "fcc10209-4d11-4625-da20-c418b2590987"
      },
      "execution_count": null,
      "outputs": [
        {
          "output_type": "stream",
          "name": "stdout",
          "text": [
            "Masukkan nama barang: Aqua botol 600 mL\n",
            "Masukkan harga barang: 3500\n",
            "Masukkan jumlah barang: 2\n",
            "\n",
            "===== Struk Belanja =====\n",
            "Barang : Aqua botol 600 mL\n",
            "Jumlah : 2\n",
            "Total  : Rp 7000.0\n",
            "Diskon : 0%\n",
            "Bayar  : Rp 7000.0\n"
          ]
        }
      ]
    },
    {
      "cell_type": "markdown",
      "source": [
        "#Penugasan 01: Identitas Mahasiswa"
      ],
      "metadata": {
        "id": "5wsyGSlINORX"
      }
    },
    {
      "cell_type": "code",
      "source": [
        "# Input string\n",
        "nama = input(\"Masukkan nama Anda: \")\n",
        "\n",
        "# Input integer\n",
        "umur = int(input(\"Masukkan umur Anda: \"))\n",
        "\n",
        "# Input float\n",
        "tinggi = float(input(\"Masukkan tinggi badan (cm): \"))\n",
        "\n",
        "# bool\n",
        "is_aktif = True\n",
        "\n",
        "if is_aktif:\n",
        "    print(f\"Halo {nama}, umur Anda {umur} tahun, tinggi badan Anda {tinggi} cm, status Anda AKTIF\")\n",
        "else:\n",
        "    print(f\"Halo {nama}, umur Anda {umur} tahun, tinggi badan Anda {tinggi} cm, status Anda TIDAK AKTIF\")"
      ],
      "metadata": {
        "colab": {
          "base_uri": "https://localhost:8080/"
        },
        "id": "9jND4XBOM39A",
        "outputId": "2005e50d-bed8-461d-bfec-21fb5a45a1f3"
      },
      "execution_count": null,
      "outputs": [
        {
          "output_type": "stream",
          "name": "stdout",
          "text": [
            "Masukkan nama Anda: Moh Farel Agustin\n",
            "Masukkan umur Anda: 18\n",
            "Masukkan tinggi badan (cm): 170\n",
            "Halo Moh Farel Agustin, umur Anda 18 tahun, tinggi badan Anda 170.0 cm, status Anda AKTIF\n"
          ]
        }
      ]
    },
    {
      "cell_type": "markdown",
      "source": [
        "#Penugasan 02: Operasi Aritmatika"
      ],
      "metadata": {
        "id": "V6wBGUYFR2n2"
      }
    },
    {
      "cell_type": "code",
      "source": [
        "b1 = int(input(\"Masukkan bilangan bulat pertama: \"))\n",
        "b2 = int(input(\"Masukkan bilangan bulat kedua: \"))\n",
        "\n",
        "print(\"b1 + b2 =\", b1 + b2)\n",
        "print(\"b1 - b2 =\", b1 - b2)\n",
        "print(\"b1 * b2 =\", b1 * b2)\n",
        "print(\"b1 / b2 =\", b1 / b2)\n",
        "print(\"b1 % b2 =\", b1 % b2)\n",
        "print(\"b1 ** b2 =\", b1 ** b2)"
      ],
      "metadata": {
        "id": "it7kKgu1R-LU",
        "colab": {
          "base_uri": "https://localhost:8080/"
        },
        "outputId": "7707db2a-47bd-4825-8556-694e3f7dc702"
      },
      "execution_count": 2,
      "outputs": [
        {
          "output_type": "stream",
          "name": "stdout",
          "text": [
            "Masukkan bilangan bulat pertama: 2\n",
            "Masukkan bilangan bulat kedua: 2\n",
            "b1 + b2 = 4\n",
            "b1 - b2 = 0\n",
            "b1 * b2 = 4\n",
            "b1 / b2 = 1.0\n",
            "b1 % b2 = 0\n",
            "b1 ** b2 = 4\n"
          ]
        }
      ]
    },
    {
      "cell_type": "markdown",
      "source": [
        "#Penugasan 03: Konversi Nilai"
      ],
      "metadata": {
        "id": "pv02WPtlXISI"
      }
    },
    {
      "cell_type": "code",
      "execution_count": null,
      "metadata": {
        "colab": {
          "base_uri": "https://localhost:8080/"
        },
        "id": "UGc8Az2xbfFu",
        "outputId": "b202c523-cabb-44be-e979-b1885edb777f"
      },
      "outputs": [
        {
          "output_type": "stream",
          "name": "stdout",
          "text": [
            "Masukkan angka desimal: 2.98\n",
            "Dalam bentuk integer: 2\n",
            "Dalam bentuk string: 2.98\n",
            "Dibulatkan 2 digit di belakang koma: 3\n"
          ]
        }
      ],
      "source": [
        "angka = float(input(\"Masukkan angka desimal: \"))\n",
        "print(\"Dalam bentuk integer:\", int(angka))\n",
        "print(\"Dalam bentuk string:\", str(angka))\n",
        "print(\"Dibulatkan 2 digit di belakang koma:\", round(angka))"
      ]
    },
    {
      "cell_type": "markdown",
      "source": [
        "#Penugasan 04: Operator Relasional"
      ],
      "metadata": {
        "id": "1_kEnuygc-WE"
      }
    },
    {
      "cell_type": "code",
      "source": [
        "b1 = int(input(\"Masukkan bilangan pertama: \"))\n",
        "b2 = int(input(\"Masukkan bilangan kedua: \"))\n",
        "\n",
        "print(\"Bilangan pertama == Bilangan kedua :\", b1 == b2)\n",
        "print(\"Bilangan pertama != Bilangan kedua :\", b1 != b2)\n",
        "print(\"Bilangan pertama < Bilangan kedua  :\", b1 < b2)\n",
        "print(\"Bilangan pertama > Bilangan kedua  :\", b1 > b2)\n",
        "print(\"Bilangan pertama <= Bilangan kedua :\", b1 <= b2)\n",
        "print(\"Bilangan pertama >= Bilangan kedua :\", b1 >= b2)"
      ],
      "metadata": {
        "colab": {
          "base_uri": "https://localhost:8080/"
        },
        "id": "GmMNyqQAdG-x",
        "outputId": "29fe02f3-bc6f-4b9d-d263-1cd16c90febd"
      },
      "execution_count": 4,
      "outputs": [
        {
          "output_type": "stream",
          "name": "stdout",
          "text": [
            "Masukkan bilangan pertama: 6\n",
            "Masukkan bilangan kedua: 4\n",
            "Bilangan pertama == Bilangan kedua : False\n",
            "Bilangan pertama != Bilangan kedua : True\n",
            "Bilangan pertama < Bilangan kedua  : False\n",
            "Bilangan pertama > Bilangan kedua  : True\n",
            "Bilangan pertama <= Bilangan kedua : False\n",
            "Bilangan pertama >= Bilangan kedua : True\n"
          ]
        }
      ]
    }
  ]
}