{
  "nbformat": 4,
  "nbformat_minor": 0,
  "metadata": {
    "colab": {
      "provenance": [],
      "name": "Jobsheet_03.ipynb",
      "authorship_tag": "ABX9TyOOZk76LfUov/GUdS13Z2PA",
      "include_colab_link": true
    },
    "kernelspec": {
      "name": "python3",
      "display_name": "Python 3"
    },
    "language_info": {
      "name": "python"
    }
  },
  "cells": [
    {
      "cell_type": "markdown",
      "metadata": {
        "id": "view-in-github",
        "colab_type": "text"
      },
      "source": [
        "<a href=\"https://colab.research.google.com/github/farelagustin/2025_algoritma_dan_pemrograman/blob/main/Jobsheet_03.ipynb\" target=\"_parent\"><img src=\"https://colab.research.google.com/assets/colab-badge.svg\" alt=\"Open In Colab\"/></a>"
      ]
    },
    {
      "cell_type": "markdown",
      "source": [
        "#Praktikum 01: If Sederhana"
      ],
      "metadata": {
        "id": "qV58AUjFC5lm"
      }
    },
    {
      "cell_type": "code",
      "execution_count": 2,
      "metadata": {
        "id": "u5Cv9awGB9nU",
        "colab": {
          "base_uri": "https://localhost:8080/"
        },
        "outputId": "cf0fa88a-e986-4714-a1e0-0b793e6543fd"
      },
      "outputs": [
        {
          "output_type": "stream",
          "name": "stdout",
          "text": [
            "Masukkan nilai ujian: 70\n",
            "Anda LULUS\n"
          ]
        }
      ],
      "source": [
        "nilai = int(input(\"Masukkan nilai ujian: \"))\n",
        "if nilai >= 60:\n",
        "  print(\"Anda LULUS\")"
      ]
    },
    {
      "cell_type": "markdown",
      "source": [
        "#Praktikum 02: If-Else"
      ],
      "metadata": {
        "id": "UTiZvPmrDdm6"
      }
    },
    {
      "cell_type": "code",
      "source": [
        "nilai = int(input(\"Masukkan nilai ujian: \"))\n",
        "if nilai >= 60:\n",
        "    print(\"Anda LULUS\")\n",
        "else:\n",
        "    print(\"Anda TIDAK LULUS\")"
      ],
      "metadata": {
        "colab": {
          "base_uri": "https://localhost:8080/"
        },
        "id": "eCCeOr2IDkdp",
        "outputId": "617d309c-d3bc-4d44-d052-da383cf3f027"
      },
      "execution_count": 5,
      "outputs": [
        {
          "output_type": "stream",
          "name": "stdout",
          "text": [
            "Masukkan nilai ujian: 50\n",
            "Anda TIDAK LULUS\n"
          ]
        }
      ]
    },
    {
      "cell_type": "markdown",
      "source": [
        "#Praktikum 03: If-Elif-Else"
      ],
      "metadata": {
        "id": "AxCyl0gXECzl"
      }
    },
    {
      "cell_type": "code",
      "source": [
        "nilai = int(input(\"Masukkan nilai akhir: \"))\n",
        "\n",
        "if nilai >= 85:\n",
        "  grade = \"A\"\n",
        "elif nilai >= 70:\n",
        "  grade = \"B\"\n",
        "elif nilai >= 55:\n",
        "  grade = \"C\"\n",
        "elif nilai >= 40:\n",
        "  grade = \"D\"\n",
        "else:\n",
        "  grade = \"E\"\n",
        "\n",
        "print(f\"Nilai Anda {nilai}, maka grade Anda = {grade}\")"
      ],
      "metadata": {
        "colab": {
          "base_uri": "https://localhost:8080/"
        },
        "id": "KWC43vwXEKZG",
        "outputId": "dc1a197c-6fbd-4991-8e57-80a187e4250b"
      },
      "execution_count": 12,
      "outputs": [
        {
          "output_type": "stream",
          "name": "stdout",
          "text": [
            "Masukkan nilai akhir: 78\n",
            "Nilai Anda 78, maka grade Anda = B\n"
          ]
        }
      ]
    },
    {
      "cell_type": "markdown",
      "source": [
        "#Praktikum 04: Nested If"
      ],
      "metadata": {
        "id": "HGagcjm2FIRd"
      }
    },
    {
      "cell_type": "code",
      "source": [
        "ipk = float(input(\"Masukkan IPK: \"))\n",
        "sks = int(input(\"Masukkan jumlah SKS: \"))\n",
        "\n",
        "if ipk >= 3.0:\n",
        "  if sks >= 18:\n",
        "    print(\"Anda LAYAK mendapat beasiswa\")\n",
        "  else:\n",
        "    print(\"IPK memenuhi, tapi SKS kurang\")\n",
        "else:\n",
        "  print(\"Anda TIDAK layak mendapat beasiswa\")"
      ],
      "metadata": {
        "colab": {
          "base_uri": "https://localhost:8080/"
        },
        "id": "zXgT8ALfFcTc",
        "outputId": "82f752bd-a2e7-4aa0-8f73-6486e12ee9e5"
      },
      "execution_count": 15,
      "outputs": [
        {
          "output_type": "stream",
          "name": "stdout",
          "text": [
            "Masukkan IPK: 2.8\n",
            "Masukkan jumlah SKS: 20\n",
            "Anda TIDAK layak mendapat beasiswa\n"
          ]
        }
      ]
    },
    {
      "cell_type": "markdown",
      "source": [
        "#Praktikum 05: Match-Case"
      ],
      "metadata": {
        "id": "ES6pyNhsGV0a"
      }
    },
    {
      "cell_type": "code",
      "source": [
        "menu = int(input(\"Pilih menu (1-3): \"))\n",
        "\n",
        "match menu:\n",
        "  case 1:\n",
        "    print(\"Anda memilih Nasi Goreng\")\n",
        "  case 2:\n",
        "    print(\"Anda memilih Mie Ayam\")\n",
        "  case 3:\n",
        "    print(\"Anda memilih Soto Ayam\")\n",
        "  case _:\n",
        "    print(\"Menu tidak tersedia\")"
      ],
      "metadata": {
        "colab": {
          "base_uri": "https://localhost:8080/"
        },
        "id": "JcAQ0FEXGfE6",
        "outputId": "b958af30-87b4-48df-ca74-21c775a982e9"
      },
      "execution_count": 17,
      "outputs": [
        {
          "output_type": "stream",
          "name": "stdout",
          "text": [
            "Pilih menu (1-3): 9\n",
            "Menu tidak tersedia\n"
          ]
        }
      ]
    },
    {
      "cell_type": "markdown",
      "source": [
        "#Praktikum 06: Studi Kasus-Program Kasir"
      ],
      "metadata": {
        "id": "UWclbTRTHXrD"
      }
    },
    {
      "cell_type": "code",
      "source": [
        "barang = input(\"Masukkan nama barang: \")\n",
        "harga = float(input(\"Masukkan harga barang: \"))\n",
        "jumlah = int(input(\"Masukkan jumlah barang: \"))\n",
        "\n",
        "total = harga * jumlah\n",
        "\n",
        "if total >= 500000:\n",
        "  diskon = 0.2\n",
        "elif total >= 250000:\n",
        "  diskon = 0.1\n",
        "else:\n",
        "  diskon = 0\n",
        "\n",
        "bayar = total - (total * diskon)\n",
        "\n",
        "print(\"\\n===== Struk Belanja =====\")\n",
        "print(f\"Barang : {barang}\")\n",
        "print(f\"Jumlah : {jumlah}\")\n",
        "print(f\"Total  : {total}\")\n",
        "print(f\"Diskon : {diskon*100}%\")\n",
        "print(f\"Bayar  : Rp {bayar}\")"
      ],
      "metadata": {
        "colab": {
          "base_uri": "https://localhost:8080/"
        },
        "id": "88N-i4OdHkO6",
        "outputId": "f8eed9a2-a594-4757-e0bb-006991f395ad"
      },
      "execution_count": 20,
      "outputs": [
        {
          "output_type": "stream",
          "name": "stdout",
          "text": [
            "Masukkan nama barang: Pulpen\n",
            "Masukkan harga barang: 5000\n",
            "Masukkan jumlah barang: 10\n",
            "\n",
            "===== Struk Belanja =====\n",
            "Barang : Pulpen\n",
            "Jumlah : 10\n",
            "Total  : 50000.0\n",
            "Diskon : 0%\n",
            "Bayar  : Rp 50000.0\n"
          ]
        }
      ]
    },
    {
      "cell_type": "markdown",
      "source": [
        "#Penugasan 01: Cek Bilangan Positif/Negatif/Nol"
      ],
      "metadata": {
        "id": "_aQ6LX0QMK-t"
      }
    },
    {
      "cell_type": "code",
      "source": [
        "bilangan = int(input(\"Masukkan bilangan: \"))\n",
        "\n",
        "if bilangan >= 1:\n",
        "  print(\"Bilangan tersebut POSITIF\")\n",
        "elif bilangan < 0:\n",
        "  print(\"Bilangan tersebut NEGATIF\")\n",
        "else:\n",
        "  print(\"Bilangan tersebut NOL\")"
      ],
      "metadata": {
        "colab": {
          "base_uri": "https://localhost:8080/"
        },
        "id": "emKRYm4pMTwx",
        "outputId": "b5be9de9-fde4-413d-a39e-06dd25962c06"
      },
      "execution_count": 25,
      "outputs": [
        {
          "output_type": "stream",
          "name": "stdout",
          "text": [
            "Masukkan bilangan: 1\n",
            "Bilangan tersebut POSITIF\n"
          ]
        }
      ]
    },
    {
      "cell_type": "markdown",
      "source": [
        "#Penugasan 02: Menentukan Kategori Usia"
      ],
      "metadata": {
        "id": "5joH3Pr4Nsya"
      }
    },
    {
      "cell_type": "code",
      "source": [
        "umur = int(input(\"Masukkan Umur Anda: \"))\n",
        "\n",
        "if umur < 5:\n",
        "  print(\"Anda termasuk kategori BALITA\")\n",
        "elif 5 <= umur <= 11:\n",
        "  print(\"Anda termasuk kategori ANAK-ANAK\")\n",
        "elif 12 <= umur <= 17:\n",
        "  print(\"Anda termasuk kategori REMAJA\")\n",
        "elif 18 <= umur <= 59:\n",
        "  print(\"Anda termasuk kategori DEWASA\")\n",
        "else:\n",
        "  print(\"Anda termasuk kategori LANSIA\")"
      ],
      "metadata": {
        "colab": {
          "base_uri": "https://localhost:8080/"
        },
        "id": "4A1LiSF3NyRO",
        "outputId": "8cf4c9c3-0caa-458b-a108-ec61353ac014"
      },
      "execution_count": 74,
      "outputs": [
        {
          "output_type": "stream",
          "name": "stdout",
          "text": [
            "Masukkan Umur Anda: 18\n",
            "Anda termasuk kategori DEWASA\n"
          ]
        }
      ]
    },
    {
      "cell_type": "markdown",
      "source": [
        "#Penugasan 03: Hitung Tarif Parkir"
      ],
      "metadata": {
        "id": "XlMhCiaIQoBS"
      }
    },
    {
      "cell_type": "code",
      "source": [
        "jam_parkir = int(input(\"Masukkan lama parkir(jam): \"))\n",
        "jam_berikutnya = 2000 * jam_parkir\n",
        "tarif_maks = jam_berikutnya <= 20000\n",
        "\n",
        "\n",
        "if jam_parkir <= 2:\n",
        "  print(\"Tarif parkir Anda Rp 5000\")\n",
        "elif tarif_maks:\n",
        "  print(\"Tarif parkir Anda Rp \", jam_berikutnya)\n",
        "else:\n",
        "  print(\"Tarif parkir Anda Rp 20000\")"
      ],
      "metadata": {
        "colab": {
          "base_uri": "https://localhost:8080/"
        },
        "id": "qA4VA_gGQsr3",
        "outputId": "70d45989-1956-4849-9940-5696a3987314"
      },
      "execution_count": 77,
      "outputs": [
        {
          "output_type": "stream",
          "name": "stdout",
          "text": [
            "Masukkan lama parkir(jam): 6\n",
            "Tarif parkir Anda Rp  12000\n"
          ]
        }
      ]
    },
    {
      "cell_type": "markdown",
      "source": [
        "#Penugasan 04: Cek Login Sederhana"
      ],
      "metadata": {
        "id": "ciVWMR1BVQIi"
      }
    },
    {
      "cell_type": "code",
      "source": [
        "username = str(input(\"Masukkan USERNAME Anda: \"))\n",
        "password = int(input(\"Masukkan PASSWORD Anda: \"))\n",
        "\n",
        "if username == \"admin\" and password == 1234:\n",
        "  print(\"Login BERHASIL\")\n",
        "else:\n",
        "  print(\"Login GAGAL\")"
      ],
      "metadata": {
        "colab": {
          "base_uri": "https://localhost:8080/"
        },
        "id": "ZAJr5GNoVXO-",
        "outputId": "0134efe4-6119-4793-db79-8fff3a689dff"
      },
      "execution_count": 58,
      "outputs": [
        {
          "output_type": "stream",
          "name": "stdout",
          "text": [
            "Masukkan USERNAME Anda: admin\n",
            "Masukkan PASSWORD Anda: 1234\n",
            "Login BERHASIL\n"
          ]
        }
      ]
    },
    {
      "cell_type": "markdown",
      "source": [
        "#Penugasan 05: One-Liner If"
      ],
      "metadata": {
        "id": "HEt-hiMJWfyy"
      }
    },
    {
      "cell_type": "code",
      "source": [
        "bilangan = int(input(\"Masukkan bilangan: \"))\n",
        "hasil = bilangan % 2\n",
        "\n",
        "print(\"Bilangan GANJIL\") if hasil == 1 else print(\"Bilangan GENAP\")"
      ],
      "metadata": {
        "colab": {
          "base_uri": "https://localhost:8080/"
        },
        "id": "cWBPrR0NWkse",
        "outputId": "a0e07a87-de77-453b-9a13-3d1773f8bb3b"
      },
      "execution_count": 64,
      "outputs": [
        {
          "output_type": "stream",
          "name": "stdout",
          "text": [
            "Masukkan bilangan: 7\n",
            "Bilangan GANJIL\n"
          ]
        }
      ]
    },
    {
      "cell_type": "markdown",
      "source": [
        "#Penugasan 06: Menu Restoran dengan Match-Case"
      ],
      "metadata": {
        "id": "AM7G_JPOYgOb"
      }
    },
    {
      "cell_type": "code",
      "source": [
        "print(\"Menu Restoran:\\n1=Nasi Goreng\\n2=Mie Ayam\\n3=Soto Ayam\")\n",
        "menu = int(input(\"Pilih menu (1-3): \"))\n",
        "\n",
        "match menu:\n",
        "  case 1:\n",
        "    print(\"Anda memilih Nasi Goreng\")\n",
        "  case 2:\n",
        "    print(\"Anda memilih Mie Ayam\")\n",
        "  case 3:\n",
        "    print(\"Anda memilih Soto Ayam\")\n",
        "  case _:\n",
        "    print(\"Menu tidak tersedia\")"
      ],
      "metadata": {
        "colab": {
          "base_uri": "https://localhost:8080/"
        },
        "id": "vwUt4hLwYv-u",
        "outputId": "b09eeb71-319b-4f9c-ec60-116cd953070e"
      },
      "execution_count": 67,
      "outputs": [
        {
          "output_type": "stream",
          "name": "stdout",
          "text": [
            "Menu Restoran:\n",
            "1=Nasi Goreng\n",
            "2=Mie Ayam\n",
            "3=Soto Ayam\n",
            "Pilih menu (1-3): 4\n",
            "Menu tidak tersedia\n"
          ]
        }
      ]
    },
    {
      "cell_type": "markdown",
      "source": [
        "#Penugasan 07: Studi Kasus Nyata-Program Penentuan Diskon"
      ],
      "metadata": {
        "id": "meMcgWAdZ1Gf"
      }
    },
    {
      "cell_type": "code",
      "source": [
        "barang = input(\"Masukkan nama barang: \")\n",
        "harga = float(input(\"Masukkan harga barang: \"))\n",
        "jumlah = int(input(\"Masukkan jumlah barang: \"))\n",
        "\n",
        "total = harga * jumlah\n",
        "\n",
        "if total >= 500000:\n",
        "  diskon = 0.2\n",
        "elif total >= 250000:\n",
        "  diskon = 0.1\n",
        "else:\n",
        "  diskon = 0\n",
        "\n",
        "bayar = total - (total * diskon)\n",
        "\n",
        "print(\"\\n===== Struk Belanja =====\")\n",
        "print(f\"Nama Barang   : {barang}\")\n",
        "print(f\"Jumlah Barang : {jumlah}\")\n",
        "print(f\"Harga Barang  : {harga}\")\n",
        "print(f\"Total Harga   : {total}\")\n",
        "print(f\"Diskon Harga  : {diskon*100}%\")\n",
        "print(f\"Jumlah Bayar  : Rp {bayar}\")"
      ],
      "metadata": {
        "colab": {
          "base_uri": "https://localhost:8080/"
        },
        "id": "G85ptj36aBef",
        "outputId": "0aacdb99-f117-4986-a3a6-bde302d4ae82"
      },
      "execution_count": 73,
      "outputs": [
        {
          "output_type": "stream",
          "name": "stdout",
          "text": [
            "Masukkan nama barang: Aqua 600mL\n",
            "Masukkan harga barang: 3000\n",
            "Masukkan jumlah barang: 128\n",
            "\n",
            "===== Struk Belanja =====\n",
            "Nama Barang   : Aqua 600mL\n",
            "Jumlah Barang : 128\n",
            "Harga Barang  : 3000.0\n",
            "Total Harga   : 384000.0\n",
            "Diskon Harga  : 10.0%\n",
            "Jumlah Bayar  : Rp 345600.0\n"
          ]
        }
      ]
    }
  ]
}