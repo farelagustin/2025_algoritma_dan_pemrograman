{
  "nbformat": 4,
  "nbformat_minor": 0,
  "metadata": {
    "colab": {
      "provenance": [],
      "authorship_tag": "ABX9TyMdNY7aK0r1ZTH+C+MuPI72",
      "include_colab_link": true
    },
    "kernelspec": {
      "name": "python3",
      "display_name": "Python 3"
    },
    "language_info": {
      "name": "python"
    }
  },
  "cells": [
    {
      "cell_type": "markdown",
      "metadata": {
        "id": "view-in-github",
        "colab_type": "text"
      },
      "source": [
        "<a href=\"https://colab.research.google.com/github/farelagustin/2025_algoritma_dan_pemrograman/blob/main/Jobsheet_01.ipynb\" target=\"_parent\"><img src=\"https://colab.research.google.com/assets/colab-badge.svg\" alt=\"Open In Colab\"/></a>"
      ]
    },
    {
      "cell_type": "markdown",
      "source": [
        "# Praktikum 01: Menghitung Luas Persegi Panjang"
      ],
      "metadata": {
        "id": "gV6TnATC34Y9"
      }
    },
    {
      "cell_type": "code",
      "execution_count": null,
      "metadata": {
        "colab": {
          "base_uri": "https://localhost:8080/"
        },
        "id": "b1s9shso2pZ8",
        "outputId": "346fbe55-a1de-4a71-b4a9-e702f70a2a7f"
      },
      "outputs": [
        {
          "output_type": "stream",
          "name": "stdout",
          "text": [
            "Masukkan panjang: 5\n",
            "Masukkan lebar: 2\n",
            "Luas persegi panjang = 10\n"
          ]
        }
      ],
      "source": [
        "p = int(input(\"Masukkan panjang: \"))\n",
        "l = int(input(\"Masukkan lebar: \"))\n",
        "luas = p * l\n",
        "print(\"Luas persegi panjang =\", luas)"
      ]
    },
    {
      "cell_type": "markdown",
      "source": [
        "# Praktikum 02: Menghitung Luas Segitiga (Rumus Heron)"
      ],
      "metadata": {
        "id": "IKnfyVDb863Q"
      }
    },
    {
      "cell_type": "code",
      "source": [
        "import math\n",
        "\n",
        "a = float(input(\"Masukkan sisi a: \"))\n",
        "b = float(input(\"Masukkan sisi b: \"))\n",
        "c = float(input(\"Masukkan sisi c: \"))\n",
        "\n",
        "s = (a + b + c) / 2\n",
        "luas = math.sqrt(s * (s - a) * (s - b) * (s - c))\n",
        "print(\"Luas segitiga =\", luas)"
      ],
      "metadata": {
        "colab": {
          "base_uri": "https://localhost:8080/"
        },
        "id": "qZXAyp7W8-13",
        "outputId": "2f7425b0-8f65-4202-f429-b275232cafcf"
      },
      "execution_count": null,
      "outputs": [
        {
          "output_type": "stream",
          "name": "stdout",
          "text": [
            "Masukkan sisi a: 2\n",
            "Masukkan sisi b: 4\n",
            "Masukkan sisi c: 5\n",
            "Luas segitiga = 3.799671038392666\n"
          ]
        }
      ]
    },
    {
      "cell_type": "markdown",
      "source": [
        "# Praktikum 03: Konversi Suhu Celcius ke Fahrenheit"
      ],
      "metadata": {
        "id": "YjgyKXyt9-E8"
      }
    },
    {
      "cell_type": "code",
      "source": [
        "c = float(input(\"Masukkan suhu (°C): \"))\n",
        "f = (c * 9/5) + 32\n",
        "print(\"Hasil konversi =\", f,\"°F\" )"
      ],
      "metadata": {
        "colab": {
          "base_uri": "https://localhost:8080/"
        },
        "id": "EPm2VWlV-CFf",
        "outputId": "e9b09f72-ff9b-4810-9d0f-d4a042cffef8"
      },
      "execution_count": null,
      "outputs": [
        {
          "output_type": "stream",
          "name": "stdout",
          "text": [
            "Masukkan suhu (°C): 1\n",
            "Hasil knversi = 33.8 °F\n"
          ]
        }
      ]
    },
    {
      "cell_type": "markdown",
      "source": [
        "# Praktikum 04: Menghitung Umur Berdasarkan Tahun Lahir"
      ],
      "metadata": {
        "id": "8eL2qjfU-8p8"
      }
    },
    {
      "cell_type": "code",
      "source": [
        "tahun_lahir = int(input(\"Masukkan tahun lahir: \"))\n",
        "tahun_sekarang = 2025\n",
        "umur = tahun_sekarang - tahun_lahir\n",
        "print(\"Umur anda =\", umur, \"tahun\")"
      ],
      "metadata": {
        "colab": {
          "base_uri": "https://localhost:8080/"
        },
        "id": "ynqISX-Z_B1W",
        "outputId": "df8003bf-9a94-4e17-d8b4-4fc9717a4a7f"
      },
      "execution_count": null,
      "outputs": [
        {
          "output_type": "stream",
          "name": "stdout",
          "text": [
            "Masukkan tahun lahir: 2007\n",
            "Umur anda = 18 tahun\n"
          ]
        }
      ]
    },
    {
      "cell_type": "markdown",
      "source": [
        "# Praktikum 05: Menghitung Luas Lingkaran"
      ],
      "metadata": {
        "id": "Ew6w9GAW_fIQ"
      }
    },
    {
      "cell_type": "code",
      "source": [
        "import math\n",
        "r = float(input(\"Masukkan jari-jari lingkaran: \"))\n",
        "luas = math.pi * r * r\n",
        "print(\"Luas lingkaran =\", luas)"
      ],
      "metadata": {
        "colab": {
          "base_uri": "https://localhost:8080/"
        },
        "id": "Qy7A6vCF_eCg",
        "outputId": "af74b74a-c9cd-4cbd-c6a0-a3d4b8dea7a4"
      },
      "execution_count": null,
      "outputs": [
        {
          "output_type": "stream",
          "name": "stdout",
          "text": [
            "Masukkan jari-jari lingkaran: 5\n",
            "Luas lingkaran = 78.53981633974483\n"
          ]
        }
      ]
    },
    {
      "cell_type": "markdown",
      "source": [
        "# Praktikum 06: Menjumlahkan Tiga Bilangan"
      ],
      "metadata": {
        "id": "JHFoiCnOAT4B"
      }
    },
    {
      "cell_type": "code",
      "source": [
        "a = int(input(\"Masukkan bilangan pertama: \"))\n",
        "b = int(input(\"Masukkan bilangan kedua: \"))\n",
        "c = int(input(\"Masukkan bilangan ketiga: \"))\n",
        "jumlah = a + b + c\n",
        "print(\"Jumlah =\", jumlah)"
      ],
      "metadata": {
        "colab": {
          "base_uri": "https://localhost:8080/"
        },
        "id": "PemM-C6PAdRW",
        "outputId": "59e16451-fe19-43aa-9b8f-aba321534258"
      },
      "execution_count": null,
      "outputs": [
        {
          "output_type": "stream",
          "name": "stdout",
          "text": [
            "Masukkan bilangan pertama: 2\n",
            "Masukkan bilangan kedua: 3\n",
            "Masukkan bilangan ketiga: 4\n",
            "Jumlah = 9\n"
          ]
        }
      ]
    },
    {
      "cell_type": "markdown",
      "source": [
        "# Penugasan"
      ],
      "metadata": {
        "id": "AvkgLk4_GH2K"
      }
    },
    {
      "cell_type": "markdown",
      "source": [
        "Penugasan 01: Menghitung Volume Balok"
      ],
      "metadata": {
        "id": "yJZv2B4UQCYB"
      }
    },
    {
      "cell_type": "code",
      "source": [
        "p = int(input(\"Masukkan panjang: \"))\n",
        "l = int(input(\"Masukkan lebar: \"))\n",
        "t = int(input(\"Masukkan tinggi: \"))\n",
        "volume = p * l * t\n",
        "print(\"Volume balok =\", volume)"
      ],
      "metadata": {
        "id": "iWKZHL8UGKaF",
        "colab": {
          "base_uri": "https://localhost:8080/"
        },
        "outputId": "b380c1cd-8eda-4c6b-d0ea-d1c98a4bbebb"
      },
      "execution_count": null,
      "outputs": [
        {
          "output_type": "stream",
          "name": "stdout",
          "text": [
            "Masukkan panjang: 2\n",
            "Masukkan lebar: 3\n",
            "Masukkan tinggi: 4\n",
            "Volume balok = 24\n"
          ]
        }
      ]
    },
    {
      "cell_type": "markdown",
      "source": [
        "Penugasan 02: Konversi detik ke jam, menit, detik"
      ],
      "metadata": {
        "id": "N74q_phHaOHq"
      }
    },
    {
      "cell_type": "code",
      "source": [
        "d = int(input(\"Masukkan total detik: \"))\n",
        "\n",
        "jam = d // 3600\n",
        "sisawaktu = d % 3600\n",
        "menit = sisawaktu // 60\n",
        "detik = sisawaktu % 60\n",
        "\n",
        "print(f\"{jam} jam, {menit} menit, {detik} detik\")"
      ],
      "metadata": {
        "id": "UM_RSON0aNRD",
        "colab": {
          "base_uri": "https://localhost:8080/"
        },
        "outputId": "4d73f54e-5f4b-40b8-bab2-4c67c59f0729"
      },
      "execution_count": 7,
      "outputs": [
        {
          "output_type": "stream",
          "name": "stdout",
          "text": [
            "Masukkan total detik: 3670\n",
            "1 jam, 1 menit, 10 detik\n"
          ]
        }
      ]
    },
    {
      "cell_type": "markdown",
      "source": [
        "Penugasan 03: Rata-rata Nilai Tiga Mata Kuliah"
      ],
      "metadata": {
        "id": "FiE2zx_EQo4X"
      }
    },
    {
      "cell_type": "code",
      "source": [
        "n1 = int(input(\"Masukkan Nilai Mata Kuliah 1: \"))\n",
        "n2 = int(input(\"Masukkan Nilai Mata Kuliah 2: \"))\n",
        "n3 = int(input(\"Masukkan Nilai Mata Kuliah 3: \"))\n",
        "mean = (n1 + n2 + n3) / 3\n",
        "print(\"Nilai Rata-rata =\", mean)\n",
        "if mean >= 60:\n",
        "  print(\"Mahasiswa LULUS\")\n",
        "else:\n",
        "  print(\"Mahasiswa TIDAK LULUS\")"
      ],
      "metadata": {
        "colab": {
          "base_uri": "https://localhost:8080/"
        },
        "id": "c5uIRds6Qnt2",
        "outputId": "9cf49e18-e96e-4fcc-8f30-a273609e5a3b"
      },
      "execution_count": null,
      "outputs": [
        {
          "output_type": "stream",
          "name": "stdout",
          "text": [
            "Masukkan Nilai Mata Kuliah 1: 40\n",
            "Masukkan Nilai Mata Kuliah 2: 50\n",
            "Masukkan Nilai Mata Kuliah 3: 60\n",
            "Nilai Rata-rata = 50.0\n",
            "Mahasiswa TIDAK LULUS\n"
          ]
        }
      ]
    },
    {
      "cell_type": "markdown",
      "source": [
        "Penugasan 04: Menghitung Diskon Belanja"
      ],
      "metadata": {
        "id": "gDMTIYYqaYHX"
      }
    },
    {
      "cell_type": "code",
      "source": [
        "belanja = int(input(\"Masukkan Total Belanja: \"))\n",
        "\n",
        "if belanja >= 500000:\n",
        "  totalbayar = belanja * 80/100\n",
        "elif belanja >= 250000:\n",
        "  totalbayar = belanja * 90/100\n",
        "else:\n",
        "  totalbayar = belanja\n",
        "print(f\"Total yang harus dibayar: Rp{totalbayar}\")"
      ],
      "metadata": {
        "id": "WxOJpDFRZx1H",
        "colab": {
          "base_uri": "https://localhost:8080/"
        },
        "outputId": "c6baad90-be23-423d-94f5-38b9290af625"
      },
      "execution_count": 23,
      "outputs": [
        {
          "output_type": "stream",
          "name": "stdout",
          "text": [
            "Masukkan Total Belanja: 300000\n",
            "Total yang harus dibayar: Rp270000.0\n"
          ]
        }
      ]
    }
  ]
}