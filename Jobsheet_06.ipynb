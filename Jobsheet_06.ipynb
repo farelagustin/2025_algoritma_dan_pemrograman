{
  "nbformat": 4,
  "nbformat_minor": 0,
  "metadata": {
    "colab": {
      "provenance": [],
      "name": "Jobsheet_06.ipynb",
      "authorship_tag": "ABX9TyOGw06DlkY1/MHpsSnDy7Lt",
      "include_colab_link": true
    },
    "kernelspec": {
      "name": "python3",
      "display_name": "Python 3"
    },
    "language_info": {
      "name": "python"
    }
  },
  "cells": [
    {
      "cell_type": "markdown",
      "metadata": {
        "id": "view-in-github",
        "colab_type": "text"
      },
      "source": [
        "<a href=\"https://colab.research.google.com/github/farelagustin/2025_algoritma_dan_pemrograman/blob/main/Jobsheet_06.ipynb\" target=\"_parent\"><img src=\"https://colab.research.google.com/assets/colab-badge.svg\" alt=\"Open In Colab\"/></a>"
      ]
    },
    {
      "cell_type": "markdown",
      "source": [
        "#Praktikum 01: Membuat dan Mengakses List ID"
      ],
      "metadata": {
        "id": "W95-Doykh5PG"
      }
    },
    {
      "cell_type": "code",
      "execution_count": null,
      "metadata": {
        "id": "8I71BelNflBe",
        "colab": {
          "base_uri": "https://localhost:8080/"
        },
        "outputId": "48286ee9-f344-43fe-d622-62a83d720192"
      },
      "outputs": [
        {
          "output_type": "stream",
          "name": "stdout",
          "text": [
            "Andi\n",
            "Budi\n",
            "Cici\n"
          ]
        }
      ],
      "source": [
        "mahasiswa = [\"Andi\", \"Budi\", \"Cici\"]\n",
        "print(mahasiswa[0])   #Andi\n",
        "print(mahasiswa[1])   #Budi\n",
        "print(mahasiswa[-1])  #Cici"
      ]
    },
    {
      "cell_type": "markdown",
      "source": [
        "#Praktikum 02: Update dan Operasi Dasar List"
      ],
      "metadata": {
        "id": "BJn17Nk9iuOe"
      }
    },
    {
      "cell_type": "code",
      "source": [
        "nilai = [85, 90, 78]\n",
        "nilai[1] = 95\n",
        "nilai.append(100)\n",
        "nilai.remove(78)\n",
        "print(nilai)"
      ],
      "metadata": {
        "colab": {
          "base_uri": "https://localhost:8080/"
        },
        "id": "yHSrU9Vzi0QK",
        "outputId": "177f20dc-00d8-4f7f-8681-14d269a259dc"
      },
      "execution_count": null,
      "outputs": [
        {
          "output_type": "stream",
          "name": "stdout",
          "text": [
            "[85, 95, 100]\n"
          ]
        }
      ]
    },
    {
      "cell_type": "markdown",
      "source": [
        "#Praktikum 03: Slicing List"
      ],
      "metadata": {
        "id": "mUvC59iyjI40"
      }
    },
    {
      "cell_type": "code",
      "source": [
        "nilai = [85, 90, 78, 92, 88]\n",
        "print(nilai[0:3])    # [85, 90, 78]\n",
        "print(nilai[2:])     # [78, 92, 88]\n",
        "print(nilai[:3])     # [85, 90, 78]"
      ],
      "metadata": {
        "colab": {
          "base_uri": "https://localhost:8080/"
        },
        "id": "PscQQgNIjP_4",
        "outputId": "3eab4325-7a80-4993-84a1-bf7c34b2eaf6"
      },
      "execution_count": null,
      "outputs": [
        {
          "output_type": "stream",
          "name": "stdout",
          "text": [
            "[85, 90, 78]\n",
            "[78, 92, 88]\n",
            "[85, 90, 78]\n"
          ]
        }
      ]
    },
    {
      "cell_type": "markdown",
      "source": [
        "#Praktikum 04: List 2D(Matriks)"
      ],
      "metadata": {
        "id": "drx1DPqPjtT5"
      }
    },
    {
      "cell_type": "code",
      "source": [
        "matriks = [\n",
        "    [1, 2, 3],\n",
        "    [4, 5, 6],\n",
        "    [7, 8, 9]\n",
        "]\n",
        "\n",
        "print(matriks[0][0])    # 1\n",
        "print(matriks[1][2])    # 6\n",
        "print(matriks[2])       # [7, 8, 9]"
      ],
      "metadata": {
        "colab": {
          "base_uri": "https://localhost:8080/"
        },
        "id": "wIpzyf2-j0H1",
        "outputId": "e570d457-bcf7-4ac3-d816-c5a42c1236c2"
      },
      "execution_count": null,
      "outputs": [
        {
          "output_type": "stream",
          "name": "stdout",
          "text": [
            "1\n",
            "6\n",
            "[7, 8, 9]\n"
          ]
        }
      ]
    },
    {
      "cell_type": "markdown",
      "source": [
        "#Praktikum 05: Operasi pada List 2D"
      ],
      "metadata": {
        "id": "-GUknbWPkX9U"
      }
    },
    {
      "cell_type": "code",
      "source": [
        "A = [[1, 2, 3], [4, 5, 6]]\n",
        "B = [[7, 8, 9], [10, 11, 12]]\n",
        "C = []\n",
        "\n",
        "for i in range(len(A)):\n",
        "  baris = []\n",
        "  for j in range(len(A[0])):\n",
        "    baris.append(A[i][j] + B[i][j])\n",
        "  C.append(baris)\n",
        "\n",
        "print(C)"
      ],
      "metadata": {
        "colab": {
          "base_uri": "https://localhost:8080/"
        },
        "id": "PxzIBFCPlwXR",
        "outputId": "ee5a3abc-4c8e-48d5-c722-f5edaacea6f0"
      },
      "execution_count": null,
      "outputs": [
        {
          "output_type": "stream",
          "name": "stdout",
          "text": [
            "[[8, 10, 12], [14, 16, 18]]\n"
          ]
        }
      ]
    },
    {
      "cell_type": "markdown",
      "source": [
        "#Praktikum 06: Studi Kasus-Pengelolaan Nilai Mahasiswa"
      ],
      "metadata": {
        "id": "dzpxSmv0me3u"
      }
    },
    {
      "cell_type": "code",
      "source": [
        "nilai = [\n",
        "    [80, 90, 85],\n",
        "    [70, 75, 80],\n",
        "    [88, 92, 84]\n",
        "]\n",
        "\n",
        "for i, baris in enumerate(nilai, start=1):\n",
        "  rata = sum(baris) / len(baris)\n",
        "  print(f\"Rata-rata mahasiswa {i}: {rata:.2f}\")"
      ],
      "metadata": {
        "id": "ju3YJc3om_SO",
        "colab": {
          "base_uri": "https://localhost:8080/"
        },
        "outputId": "caf45d0c-43bd-4b4e-a751-4fd7e418561f"
      },
      "execution_count": null,
      "outputs": [
        {
          "output_type": "stream",
          "name": "stdout",
          "text": [
            "Rata-rata mahasiswa 1: 85.00\n",
            "Rata-rata mahasiswa 2: 75.00\n",
            "Rata-rata mahasiswa 3: 88.00\n"
          ]
        }
      ]
    },
    {
      "cell_type": "markdown",
      "source": [
        "#Penugasan 01: Akses Element List"
      ],
      "metadata": {
        "id": "4YndkczKSRXC"
      }
    },
    {
      "cell_type": "code",
      "source": [
        "mahasiswa = [\"Andi\", \"Budi\", \"Cici\", \"Dedi\", \"Erni\"]\n",
        "print(\"Nama Mahasiswa pertama         : \", mahasiswa[0])    # Nama Pertama\n",
        "print(\"Nama Mahasiswa terakhir        : \", mahasiswa[4])    # Nama Terakhir\n",
        "print(\"Nama Mahasiswa pada indeks ke-2: \", mahasiswa[2])    # Nama pada Indeks ke-2"
      ],
      "metadata": {
        "colab": {
          "base_uri": "https://localhost:8080/"
        },
        "id": "TTaZSN0TSVRt",
        "outputId": "61ed6ab1-923f-435d-83ac-e244d8170607"
      },
      "execution_count": null,
      "outputs": [
        {
          "output_type": "stream",
          "name": "stdout",
          "text": [
            "Nama Mahasiswa pertama         :  Andi\n",
            "Nama Mahasiswa terakhir        :  Erni\n",
            "Nama Mahasiswa pada indeks ke-2:  Cici\n"
          ]
        }
      ]
    },
    {
      "cell_type": "markdown",
      "source": [
        "#Penugasan 02: Operasi Dasar List"
      ],
      "metadata": {
        "id": "2_-C6QMF0jhw"
      }
    },
    {
      "cell_type": "code",
      "source": [
        "nilai = [70, 75, 80]\n",
        "nilai[1] = 85\n",
        "nilai.append(90)\n",
        "nilai.remove(70)\n",
        "print(nilai)"
      ],
      "metadata": {
        "colab": {
          "base_uri": "https://localhost:8080/"
        },
        "id": "wZqXs1FX0yct",
        "outputId": "8a1c8c04-b0cf-490c-8313-265136043994"
      },
      "execution_count": null,
      "outputs": [
        {
          "output_type": "stream",
          "name": "stdout",
          "text": [
            "[85, 80, 90]\n"
          ]
        }
      ]
    },
    {
      "cell_type": "markdown",
      "source": [
        "#Penugasan 03: Slicing List"
      ],
      "metadata": {
        "id": "_7j4F2lNC--V"
      }
    },
    {
      "cell_type": "code",
      "source": [
        "nilai = [1,2,3,4,5,6,7,8,9,10]\n",
        "\n",
        "print(\"Tiga elemen pertama:\", nilai[:3])\n",
        "print(\"Empat elemen terakhir:\", nilai[-4:])\n",
        "print(\"Elemen dengan indeks genap:\", [nilai[i] for i in range(len(nilai)) if i % 2 == 0])\n"
      ],
      "metadata": {
        "colab": {
          "base_uri": "https://localhost:8080/"
        },
        "id": "nCm-S2doNNst",
        "outputId": "7e952016-badd-434e-e517-040d612e8382"
      },
      "execution_count": null,
      "outputs": [
        {
          "output_type": "stream",
          "name": "stdout",
          "text": [
            "Tiga elemen pertama: [1, 2, 3]\n",
            "Empat elemen terakhir: [7, 8, 9, 10]\n",
            "Elemen dengan indeks genap: [1, 3, 5, 7, 9]\n"
          ]
        }
      ]
    },
    {
      "cell_type": "markdown",
      "source": [
        "#Penugasan 04: List 2D - Matriks"
      ],
      "metadata": {
        "id": "N4dNqMBEREZD"
      }
    },
    {
      "cell_type": "code",
      "source": [
        "matriks = [\n",
        "    [1, 2, 3],\n",
        "    [4, 5, 6]\n",
        "]\n",
        "\n",
        "print(\"Elemen baris pertama kolom kedua : \", matriks[0][1])\n",
        "print(\"Elemen baris kedua kolom ketiga  : \", matriks[1][2])\n",
        "print(\"Seluruh baris pertama            : \", matriks[0])"
      ],
      "metadata": {
        "colab": {
          "base_uri": "https://localhost:8080/"
        },
        "id": "4zHBhK5pRP5w",
        "outputId": "8546d09b-94ed-4e95-a8fa-3b34ec8525ad"
      },
      "execution_count": null,
      "outputs": [
        {
          "output_type": "stream",
          "name": "stdout",
          "text": [
            "Elemen baris pertama kolom kedua :  2\n",
            "Elemen baris kedua kolom ketiga  :  6\n",
            "Seluruh baris pertama            :  [1, 2, 3]\n"
          ]
        }
      ]
    },
    {
      "cell_type": "markdown",
      "source": [
        "#Penugasan 05: Operasi Matriks 2D"
      ],
      "metadata": {
        "id": "SeAwsMpRYIcx"
      }
    },
    {
      "cell_type": "code",
      "source": [
        "A = [[1, 2], [3, 4]]\n",
        "B = [[5, 6], [7, 8]]\n",
        "C = []\n",
        "\n",
        "for i in range(len(A)):\n",
        "  baris = []\n",
        "  for j in range(len(A[0])):\n",
        "    baris.append(A[i][j] + B[i][j])\n",
        "  C.append(baris)\n",
        "\n",
        "print(C)"
      ],
      "metadata": {
        "colab": {
          "base_uri": "https://localhost:8080/"
        },
        "id": "rvHQE_gwYSt3",
        "outputId": "bcf49e3b-0e35-4ac2-df9e-80f428625897"
      },
      "execution_count": null,
      "outputs": [
        {
          "output_type": "stream",
          "name": "stdout",
          "text": [
            "[[6, 8], [10, 12]]\n"
          ]
        }
      ]
    },
    {
      "cell_type": "markdown",
      "source": [
        "#Penugasan 06: Rata-rata Nilai Mahasiswa"
      ],
      "metadata": {
        "id": "SzRqzNBpvknD"
      }
    },
    {
      "cell_type": "code",
      "source": [
        "nilai = [\n",
        "    [75, 80, 85],\n",
        "    [60, 70, 65],\n",
        "    [90, 95, 92]\n",
        "]\n",
        "\n",
        "for i, baris in enumerate(nilai, start=1):\n",
        "  rata = sum(baris) / len(baris)\n",
        "  print(f\"Rata-rata mahasiswa {i}: {rata:.2f}\")"
      ],
      "metadata": {
        "colab": {
          "base_uri": "https://localhost:8080/"
        },
        "id": "VpzOB9E1wI_I",
        "outputId": "010fa30c-47b4-48a6-fe88-96004d92687b"
      },
      "execution_count": null,
      "outputs": [
        {
          "output_type": "stream",
          "name": "stdout",
          "text": [
            "Rata-rata mahasiswa 1: 80.00\n",
            "Rata-rata mahasiswa 2: 65.00\n",
            "Rata-rata mahasiswa 3: 92.33\n"
          ]
        }
      ]
    },
    {
      "cell_type": "markdown",
      "source": [
        "#Penugasan 07: Studi Kasus - Data Toko"
      ],
      "metadata": {
        "id": "HJ5KfXFux8Ab"
      }
    },
    {
      "cell_type": "code",
      "source": [
        "stok = [\n",
        "    [\"Buku\", 20],\n",
        "    [\"Pulpen\", 35],\n",
        "    [\"Penghapus\", 15]\n",
        "]\n",
        "\n",
        "print(\"Daftar Barang dan Jumlah Stok\")\n",
        "\n",
        "for barang in stok:\n",
        "    print(f\"{barang[0]}: {barang[1]}\")\n",
        "\n",
        "stok_terbanyak = stok[0]\n",
        "\n",
        "for barang in stok:\n",
        "    if barang[1] > stok_terbanyak[1]:\n",
        "        stok_terbanyak = barang\n",
        "\n",
        "print(f\"\\nBarang dengan stok terbanyak: {stok_terbanyak[0]} dengan jumlah {stok_terbanyak[1]}\")\n"
      ],
      "metadata": {
        "colab": {
          "base_uri": "https://localhost:8080/"
        },
        "id": "KBZsr6eK3rLr",
        "outputId": "ba670b8e-c62e-49e4-f192-0e7cfba47b59"
      },
      "execution_count": null,
      "outputs": [
        {
          "output_type": "stream",
          "name": "stdout",
          "text": [
            "Daftar Barang dan Jumlah Stok\n",
            "Buku: 20\n",
            "Pulpen: 35\n",
            "Penghapus: 15\n",
            "\n",
            "Barang dengan stok terbanyak: Pulpen dengan jumlah 35\n"
          ]
        }
      ]
    }
  ]
}