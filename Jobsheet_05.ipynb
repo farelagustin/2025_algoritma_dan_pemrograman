{
  "nbformat": 4,
  "nbformat_minor": 0,
  "metadata": {
    "colab": {
      "provenance": [],
      "name": "Jobsheet_05.ipynb",
      "authorship_tag": "ABX9TyNx0osXXbqSAcV2GIDH0lqA",
      "include_colab_link": true
    },
    "kernelspec": {
      "name": "python3",
      "display_name": "Python 3"
    },
    "language_info": {
      "name": "python"
    }
  },
  "cells": [
    {
      "cell_type": "markdown",
      "metadata": {
        "id": "view-in-github",
        "colab_type": "text"
      },
      "source": [
        "<a href=\"https://colab.research.google.com/github/farelagustin/2025_algoritma_dan_pemrograman/blob/main/Jobsheet_05.ipynb\" target=\"_parent\"><img src=\"https://colab.research.google.com/assets/colab-badge.svg\" alt=\"Open In Colab\"/></a>"
      ]
    },
    {
      "cell_type": "markdown",
      "source": [
        "#Praktikum 01: Indexing dan Slicing"
      ],
      "metadata": {
        "id": "AiDXL2HP8l6r"
      }
    },
    {
      "cell_type": "code",
      "execution_count": null,
      "metadata": {
        "colab": {
          "base_uri": "https://localhost:8080/"
        },
        "id": "FumnUomG8dCT",
        "outputId": "30b3c5dc-3184-4e5c-c422-d49db9ca6b10"
      },
      "outputs": [
        {
          "output_type": "stream",
          "name": "stdout",
          "text": [
            "P\n",
            "Politeknik \n",
            "Semarang\n"
          ]
        }
      ],
      "source": [
        "teks = \"Politeknik Negeri Semarang\"\n",
        "print(teks[0])        # 'P'\n",
        "print(teks[0:11])     # 'Politeknik'\n",
        "print(teks[-8:])       # 'Semarang'"
      ]
    },
    {
      "cell_type": "markdown",
      "source": [
        "#Praktikum 02: Method Bawaan String"
      ],
      "metadata": {
        "id": "qp8ulxJK9azM"
      }
    },
    {
      "cell_type": "code",
      "source": [
        "teks = \" Politeknik Negeri Semarang \"\n",
        "\n",
        "print(teks.upper())\n",
        "print(teks.lower())\n",
        "print(teks.title())\n",
        "print(teks.strip())\n",
        "print(teks.split(\" \"))\n",
        "print(\"-\".join([\"Politeknik\",\"Negeri\",\"Semarang\"]))"
      ],
      "metadata": {
        "colab": {
          "base_uri": "https://localhost:8080/"
        },
        "id": "X-t1G6Fb9kSf",
        "outputId": "68e2ff11-f49e-40c5-e600-52d39c7d4a29"
      },
      "execution_count": null,
      "outputs": [
        {
          "output_type": "stream",
          "name": "stdout",
          "text": [
            " POLITEKNIK NEGERI SEMARANG \n",
            " politeknik negeri semarang \n",
            " Politeknik Negeri Semarang \n",
            "Politeknik Negeri Semarang\n",
            "['', 'Politeknik', 'Negeri', 'Semarang', '']\n",
            "Politeknik-Negeri-Semarang\n"
          ]
        }
      ]
    },
    {
      "cell_type": "markdown",
      "source": [
        "#Praktikum 03: Validasi Password"
      ],
      "metadata": {
        "id": "sKw9zrY4-Tfl"
      }
    },
    {
      "cell_type": "code",
      "source": [
        "password = input(\"Masukkan password: \")\n",
        "\n",
        "if len(password) >= 8:\n",
        "  print(\"Password valid\")\n",
        "else:\n",
        "  print(\"Password terlalu pendek\")"
      ],
      "metadata": {
        "colab": {
          "base_uri": "https://localhost:8080/"
        },
        "id": "9VG3JzEk-Yd-",
        "outputId": "13f74a10-d6f5-4f4c-c0e8-720560f9cd0e"
      },
      "execution_count": null,
      "outputs": [
        {
          "output_type": "stream",
          "name": "stdout",
          "text": [
            "Masukkan password: abc\n",
            "Password terlalu pendek\n"
          ]
        }
      ]
    },
    {
      "cell_type": "markdown",
      "source": [
        "#Praktikum 04: String Formatting dengan F-String"
      ],
      "metadata": {
        "id": "JI90Jrk8_jnx"
      }
    },
    {
      "cell_type": "code",
      "source": [
        "nama = input(\"Masukkan nama: \")\n",
        "umur = int(input(\"Masukkan umur: \"))\n",
        "\n",
        "print(f\"Nama saya {nama}, umur {umur} tahun.\")"
      ],
      "metadata": {
        "colab": {
          "base_uri": "https://localhost:8080/"
        },
        "id": "rA4wugC8_tuI",
        "outputId": "3ccf2637-e3e3-4176-bdb3-8bd6bb2d910f"
      },
      "execution_count": null,
      "outputs": [
        {
          "output_type": "stream",
          "name": "stdout",
          "text": [
            "Masukkan nama: Budi\n",
            "Masukkan umur: 21\n",
            "Nama saya Budi, umur 21 tahun.\n"
          ]
        }
      ]
    },
    {
      "cell_type": "markdown",
      "source": [
        "#Praktikum 05: Operasi dalam F-String"
      ],
      "metadata": {
        "id": "9Tz4UeogALZm"
      }
    },
    {
      "cell_type": "code",
      "source": [
        "a = int(input(\"Masukkan nilai a: \"))\n",
        "b = int(input(\"Masukkan nilai b: \"))\n",
        "\n",
        "print(f\"Hasil penjumlahan {a} + {b} = {a+b}\")\n",
        "print(f\"Hasil pembagian {a} / {b} = {a/b:.2f}\")"
      ],
      "metadata": {
        "colab": {
          "base_uri": "https://localhost:8080/"
        },
        "id": "pNW5XP7DAb4e",
        "outputId": "c48b4e18-d44e-4071-c60b-71c9e4bf5583"
      },
      "execution_count": null,
      "outputs": [
        {
          "output_type": "stream",
          "name": "stdout",
          "text": [
            "Masukkan nilai a: 10\n",
            "Masukkan nilai b: 3\n",
            "Hasil penjumlahan 10 + 3 = 13\n",
            "Hasil pembagian 10 / 3 = 3.33\n"
          ]
        }
      ]
    },
    {
      "cell_type": "markdown",
      "source": [
        "#Praktikum 06: Casting String"
      ],
      "metadata": {
        "id": "Y_AN_dnAA_Oi"
      }
    },
    {
      "cell_type": "code",
      "source": [
        "angka = 123\n",
        "teks = \"456\"\n",
        "\n",
        "print(\"Nilai: \" + str(angka))\n",
        "print(int(teks) + 10)"
      ],
      "metadata": {
        "colab": {
          "base_uri": "https://localhost:8080/"
        },
        "id": "h6Gr_2SxBHcV",
        "outputId": "5c9746b5-0b19-4b77-b1b9-4d48383608db"
      },
      "execution_count": null,
      "outputs": [
        {
          "output_type": "stream",
          "name": "stdout",
          "text": [
            "Nilai: 123\n",
            "466\n"
          ]
        }
      ]
    },
    {
      "cell_type": "markdown",
      "source": [
        "#Praktikum 07: Studi Kasus Nyata-Analisis Kalimat"
      ],
      "metadata": {
        "id": "YXecUIjVCLUv"
      }
    },
    {
      "cell_type": "code",
      "source": [
        "kalimat = \"Saya kuliah di Politeknik Negeri Semarang\"\n",
        "daftar_kata = kalimat.split(\" \")\n",
        "\n",
        "print(f\"Jumlah kata: {len(daftar_kata)}\")\n",
        "for i, kata in enumerate(daftar_kata, start=1):\n",
        "  print(i, kata)"
      ],
      "metadata": {
        "colab": {
          "base_uri": "https://localhost:8080/"
        },
        "id": "-jukIeTYCWxA",
        "outputId": "05f680bf-5d73-4788-849f-fb559addc4c4"
      },
      "execution_count": null,
      "outputs": [
        {
          "output_type": "stream",
          "name": "stdout",
          "text": [
            "Jumlah kata: 6\n",
            "1 Saya\n",
            "2 kuliah\n",
            "3 di\n",
            "4 Politeknik\n",
            "5 Negeri\n",
            "6 Semarang\n"
          ]
        }
      ]
    },
    {
      "cell_type": "markdown",
      "source": [
        "#Penugasan 01: Indexing dan Slicing"
      ],
      "metadata": {
        "id": "9ormlg3sMD-m"
      }
    },
    {
      "cell_type": "code",
      "source": [
        "teks = \"Politeknik Negeri Semarang\"\n",
        "\n",
        "print(teks[0])      #P\n",
        "print(teks[-1])     #g\n",
        "print(teks[11:17])  #Negeri"
      ],
      "metadata": {
        "colab": {
          "base_uri": "https://localhost:8080/"
        },
        "id": "GY1n6NZeMg5H",
        "outputId": "47ea49ee-f85e-4fee-a593-67d3de6cebf1"
      },
      "execution_count": null,
      "outputs": [
        {
          "output_type": "stream",
          "name": "stdout",
          "text": [
            "P\n",
            "g\n",
            "Negeri\n"
          ]
        }
      ]
    },
    {
      "cell_type": "markdown",
      "source": [
        "#Penugasan 02: Manipulasi String"
      ],
      "metadata": {
        "id": "UD_RpXf8NlDQ"
      }
    },
    {
      "cell_type": "code",
      "source": [
        "teks = str(input(\"Tuliskan sebuah kalimat: \"))\n",
        "\n",
        "print(\"Semua huruf kapital: \", teks.upper())\n",
        "print(\"Semua huruf kecil: \", teks.lower())\n",
        "print(\"Panjang kalimat: \", len(teks))"
      ],
      "metadata": {
        "colab": {
          "base_uri": "https://localhost:8080/"
        },
        "id": "IXPvBygsNriR",
        "outputId": "4f9c876c-b386-47c3-d71b-da82cc6ae95e"
      },
      "execution_count": null,
      "outputs": [
        {
          "output_type": "stream",
          "name": "stdout",
          "text": [
            "Tuliskan sebuah kalimat: Hai, namaku Farel\n",
            "Semua huruf kapital:  HAI, NAMAKU FAREL\n",
            "Semua huruf kecil:  hai, namaku farel\n",
            "Panjang kalimat:  17\n"
          ]
        }
      ]
    },
    {
      "cell_type": "markdown",
      "source": [
        "#Penugasan 03: Validasi Username"
      ],
      "metadata": {
        "id": "k1Hb5YQRPujo"
      }
    },
    {
      "cell_type": "code",
      "source": [
        "user_name = str(input(\"Masukkan username anda: \"))\n",
        "\n",
        "if \" \" in user_name:\n",
        "  print(\"ERROR: Username tidak boleh mengandung spasi.\")\n",
        "else:\n",
        "  print(\"Username valid.\")"
      ],
      "metadata": {
        "colab": {
          "base_uri": "https://localhost:8080/"
        },
        "id": "aPeFf9wnP0g2",
        "outputId": "a8e7fae6-3c39-4b78-dc2d-4aa8c8a9b657"
      },
      "execution_count": null,
      "outputs": [
        {
          "output_type": "stream",
          "name": "stdout",
          "text": [
            "Masukkan username anda: farel agustin\n",
            "ERROR: Username tidak boleh mengandung spasi.\n"
          ]
        }
      ]
    },
    {
      "cell_type": "markdown",
      "source": [
        "#Penugasan 04: String Formatting dengan F-String"
      ],
      "metadata": {
        "id": "2nVtIp8fRRQs"
      }
    },
    {
      "cell_type": "code",
      "source": [
        "nama = str(input(\"Masukkan nama anda: \"))\n",
        "umur = int(input(\"Masukkan umur anda: \"))\n",
        "jurusan = str(input(\"Masukkan jurusan anda: \"))\n",
        "\n",
        "print(f\"\\nNama: {nama}\\nUmur: {umur}\\nJurusan: {jurusan}\")"
      ],
      "metadata": {
        "colab": {
          "base_uri": "https://localhost:8080/"
        },
        "id": "LBCcSJ4nRYd_",
        "outputId": "0013cf2c-7fa3-488d-a79c-cabe1ae5bae0"
      },
      "execution_count": null,
      "outputs": [
        {
          "output_type": "stream",
          "name": "stdout",
          "text": [
            "Masukkan nama anda: Farel\n",
            "Masukkan umur anda: 18\n",
            "Masukkan jurusan anda: Teknologi Rekayasa Komputer\n",
            "\n",
            "Nama: Farel\n",
            "Umur: 18\n",
            "Jurusan: Teknologi Rekayasa Komputer\n"
          ]
        }
      ]
    },
    {
      "cell_type": "markdown",
      "source": [
        "#Penugasan 05: Operasi dalam F-String"
      ],
      "metadata": {
        "id": "5TWZNYb1TlNq"
      }
    },
    {
      "cell_type": "code",
      "source": [
        "a = int(input(\"Masukkan nilai a: \"))\n",
        "b = int(input(\"Masukkan nilai b: \"))\n",
        "\n",
        "print(f\"\\nHasil penjumlahan {a} + {b} = {a + b}\\nHasil perkalian {a} x {b} = {a * b}\\nHasil pembagian {a} / {b} dengan 3 angka di belakang koma = {a/b:.3f}\")"
      ],
      "metadata": {
        "colab": {
          "base_uri": "https://localhost:8080/"
        },
        "id": "a9632KHOTvjV",
        "outputId": "532bbeba-a677-45bb-9006-fb102162ac3c"
      },
      "execution_count": null,
      "outputs": [
        {
          "output_type": "stream",
          "name": "stdout",
          "text": [
            "Masukkan nilai a: 17\n",
            "Masukkan nilai b: 3\n",
            "\n",
            "Hasil penjumlahan 17 + 3 = 20\n",
            "Hasil perkalian 17 x 3 = 51\n",
            "Hasil pembagian 17 / 3 dengan 3 angka di belakang koma = 5.667\n"
          ]
        }
      ]
    },
    {
      "cell_type": "markdown",
      "source": [
        "#Penugasan 06: Casting Data"
      ],
      "metadata": {
        "id": "2_JZGxoIVXfv"
      }
    },
    {
      "cell_type": "code",
      "source": [
        "angka = str(input(\"Masukkan angka: \"))\n",
        "angka2 = int(angka)\n",
        "hasil = float(angka2 ** 2)\n",
        "\n",
        "print(f\"Hasil: {hasil:.2f}\")"
      ],
      "metadata": {
        "colab": {
          "base_uri": "https://localhost:8080/"
        },
        "id": "jD5Q6WcXVq2_",
        "outputId": "c4537442-61dd-4453-a908-606735b1c932"
      },
      "execution_count": null,
      "outputs": [
        {
          "output_type": "stream",
          "name": "stdout",
          "text": [
            "Masukkan angka: 18\n",
            "Hasil: 324.00\n"
          ]
        }
      ]
    },
    {
      "cell_type": "markdown",
      "source": [
        "#Penugasan 07: Studi Kasus-Analisis Teks"
      ],
      "metadata": {
        "id": "qeuX15hkXL23"
      }
    },
    {
      "cell_type": "code",
      "source": [
        "kalimat = str(input(\"Masukkan sebuah kalimat: \"))\n",
        "daftar_kata = kalimat.split(\" \")\n",
        "daftar_kata.sort()\n",
        "kata_terpanjang = max(daftar_kata, key=len)\n",
        "\n",
        "print(f\"\\nJumlah kata: {len(daftar_kata)}\")\n",
        "print(\"Kata terpanjang:\", kata_terpanjang)\n",
        "for i, kata in enumerate(daftar_kata, start=1):\n",
        "  print(i, kata)"
      ],
      "metadata": {
        "colab": {
          "base_uri": "https://localhost:8080/"
        },
        "id": "WrBQavpwXZUl",
        "outputId": "55566676-99e9-457a-9ed5-79c5e43259ff"
      },
      "execution_count": null,
      "outputs": [
        {
          "output_type": "stream",
          "name": "stdout",
          "text": [
            "Masukkan sebuah kalimat: Saya kuliah di Politeknik Negeri Semarang\n",
            "\n",
            "Jumlah kata: 6\n",
            "Kata terpanjang: Politeknik\n",
            "1 Negeri\n",
            "2 Politeknik\n",
            "3 Saya\n",
            "4 Semarang\n",
            "5 di\n",
            "6 kuliah\n"
          ]
        }
      ]
    }
  ]
}