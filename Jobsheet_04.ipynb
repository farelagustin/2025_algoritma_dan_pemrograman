{
  "nbformat": 4,
  "nbformat_minor": 0,
  "metadata": {
    "colab": {
      "provenance": [],
      "name": "Jobsheet_04.ipynb",
      "authorship_tag": "ABX9TyOuhrE8Nl+piNP36edwYWlO",
      "include_colab_link": true
    },
    "kernelspec": {
      "name": "python3",
      "display_name": "Python 3"
    },
    "language_info": {
      "name": "python"
    }
  },
  "cells": [
    {
      "cell_type": "markdown",
      "metadata": {
        "id": "view-in-github",
        "colab_type": "text"
      },
      "source": [
        "<a href=\"https://colab.research.google.com/github/farelagustin/2025_algoritma_dan_pemrograman/blob/main/Jobsheet_04.ipynb\" target=\"_parent\"><img src=\"https://colab.research.google.com/assets/colab-badge.svg\" alt=\"Open In Colab\"/></a>"
      ]
    },
    {
      "cell_type": "markdown",
      "source": [
        "#Praktikum 01: Perulangan For dengan Range"
      ],
      "metadata": {
        "id": "bpX50CkX0i-X"
      }
    },
    {
      "cell_type": "code",
      "execution_count": null,
      "metadata": {
        "colab": {
          "base_uri": "https://localhost:8080/"
        },
        "id": "sv6bBi9F0QJw",
        "outputId": "9d83e7b4-525b-4730-c587-7e31b04cdfc6"
      },
      "outputs": [
        {
          "output_type": "stream",
          "name": "stdout",
          "text": [
            "1\n",
            "2\n",
            "3\n",
            "4\n"
          ]
        }
      ],
      "source": [
        "for i in range(1, 5):\n",
        "  print(i)"
      ]
    },
    {
      "cell_type": "markdown",
      "source": [
        "#Praktikum 02: Perulangan While"
      ],
      "metadata": {
        "id": "SI4aVfqQ1S9j"
      }
    },
    {
      "cell_type": "code",
      "source": [
        "n = int(input(\"Masukkan angka: \"))\n",
        "while n > 0:\n",
        "    print(n)\n",
        "    n -= 1"
      ],
      "metadata": {
        "colab": {
          "base_uri": "https://localhost:8080/"
        },
        "id": "kE6GRric1aMb",
        "outputId": "d78066a9-85a3-4e56-ac05-8639f79da4af"
      },
      "execution_count": null,
      "outputs": [
        {
          "output_type": "stream",
          "name": "stdout",
          "text": [
            "Masukkan angka: 5\n",
            "5\n",
            "4\n",
            "3\n",
            "2\n",
            "1\n"
          ]
        }
      ]
    },
    {
      "cell_type": "markdown",
      "source": [
        "#Praktikum 03: Nested Loop (Segitiga Bintang)"
      ],
      "metadata": {
        "id": "BxUWwYp015gz"
      }
    },
    {
      "cell_type": "code",
      "source": [
        "for i in range(1, 5):\n",
        "  for j in range(i):\n",
        "    print(\"*\", end=\"\")\n",
        "  print()"
      ],
      "metadata": {
        "colab": {
          "base_uri": "https://localhost:8080/"
        },
        "id": "bv0V7pRt2CLd",
        "outputId": "88ffc166-408b-45cd-955d-ed3598d29971"
      },
      "execution_count": null,
      "outputs": [
        {
          "output_type": "stream",
          "name": "stdout",
          "text": [
            "*\n",
            "**\n",
            "***\n",
            "****\n"
          ]
        }
      ]
    },
    {
      "cell_type": "markdown",
      "source": [
        "#Praktikum 04: Break and Continue"
      ],
      "metadata": {
        "id": "QWAGfqfV2vYO"
      }
    },
    {
      "cell_type": "code",
      "source": [
        "# Break\n",
        "for i in range(1, 10):\n",
        "  if i == 5:\n",
        "    print(\"Angka 5 ditemukan\")\n",
        "    break"
      ],
      "metadata": {
        "colab": {
          "base_uri": "https://localhost:8080/"
        },
        "id": "qEpIUJaS207S",
        "outputId": "da884fb9-ddf3-41e1-ce0b-6ebf7ae98ac1"
      },
      "execution_count": null,
      "outputs": [
        {
          "output_type": "stream",
          "name": "stdout",
          "text": [
            "Angka 5 ditemukan\n"
          ]
        }
      ]
    },
    {
      "cell_type": "code",
      "source": [
        "# Continue\n",
        "for i in range(1, 5):\n",
        "  if i % 2 == 1:\n",
        "      continue\n",
        "  print(i)\n"
      ],
      "metadata": {
        "colab": {
          "base_uri": "https://localhost:8080/"
        },
        "id": "tfgIVa2f3MMq",
        "outputId": "cceeea6e-a263-4a3c-f1cb-aafa36a59f61"
      },
      "execution_count": null,
      "outputs": [
        {
          "output_type": "stream",
          "name": "stdout",
          "text": [
            "2\n",
            "4\n"
          ]
        }
      ]
    },
    {
      "cell_type": "markdown",
      "source": [
        "#Praktikum 05: For pada Dictionary"
      ],
      "metadata": {
        "id": "WjenC3qk3oFC"
      }
    },
    {
      "cell_type": "code",
      "source": [
        "data = {\"Nama\": \"Andi\", \"Umur\": 20, \"Prodi\": \"TRK\"}\n",
        "\n",
        "for k, v in data.items():\n",
        "  print(k, \":\", v)"
      ],
      "metadata": {
        "colab": {
          "base_uri": "https://localhost:8080/"
        },
        "id": "qcJb6qRj3x5m",
        "outputId": "914a2768-0414-4378-cf5b-14896a1067d4"
      },
      "execution_count": null,
      "outputs": [
        {
          "output_type": "stream",
          "name": "stdout",
          "text": [
            "Nama : Andi\n",
            "Umur : 20\n",
            "Prodi : TRK\n"
          ]
        }
      ]
    },
    {
      "cell_type": "markdown",
      "source": [
        "#Praktikum 06: For dengan Enumerate"
      ],
      "metadata": {
        "id": "kDjrt2MH4VwM"
      }
    },
    {
      "cell_type": "code",
      "source": [
        "daftar = [\"Andi\", \"Budi\", \"Cici\"]\n",
        "\n",
        "for i, nama in enumerate(daftar, start=1):\n",
        "  print(i, nama)"
      ],
      "metadata": {
        "colab": {
          "base_uri": "https://localhost:8080/"
        },
        "id": "v4oX4p_f4dKT",
        "outputId": "8a6c7bbd-ad2e-48fc-d065-cac9e5a119f7"
      },
      "execution_count": null,
      "outputs": [
        {
          "output_type": "stream",
          "name": "stdout",
          "text": [
            "1 Andi\n",
            "2 Budi\n",
            "3 Cici\n"
          ]
        }
      ]
    },
    {
      "cell_type": "markdown",
      "source": [
        "#Praktikum 07: Studi Kasus Program Kasir Multi-Item"
      ],
      "metadata": {
        "id": "YFXM0Xgg4koC"
      }
    },
    {
      "cell_type": "code",
      "source": [
        "total = 0\n",
        "\n",
        "while True:\n",
        "  barang = input(\"Masukkan nama barang (ketik 'selesai' untuk berhenti): \")\n",
        "  if barang.lower() == \"selesai\":\n",
        "    break\n",
        "  harga = float(input(f\"Masukkan harga {barang}: \"))\n",
        "  jumlah = int(input(f\"Masukkan jumlah {barang}: \"))\n",
        "  subtotal = harga * jumlah\n",
        "  total += subtotal\n",
        "\n",
        "print(\"\\n===== Struk Belanja =====\")\n",
        "print(f\"Total Belanja : Rp {total}\")"
      ],
      "metadata": {
        "colab": {
          "base_uri": "https://localhost:8080/"
        },
        "id": "oEUC2YxP5b2w",
        "outputId": "e2fd1dde-350d-4a1f-d6a6-053c2e00c269"
      },
      "execution_count": null,
      "outputs": [
        {
          "output_type": "stream",
          "name": "stdout",
          "text": [
            "Masukkan nama barang (ketik 'selesai' untuk berhenti): Buku\n",
            "Masukkan harga Buku: 50000\n",
            "Masukkan jumlah Buku: 2\n",
            "Masukkan nama barang (ketik 'selesai' untuk berhenti): Pulpen\n",
            "Masukkan harga Pulpen: 5000\n",
            "Masukkan jumlah Pulpen: 3\n",
            "Masukkan nama barang (ketik 'selesai' untuk berhenti): selesai\n",
            "\n",
            "===== Struk Belanja =====\n",
            "Total Belanja : Rp 115000.0\n"
          ]
        }
      ]
    },
    {
      "cell_type": "markdown",
      "source": [
        "#Penugasan 01: Menampilkan Deret Angka"
      ],
      "metadata": {
        "id": "4aHidB9rJCnq"
      }
    },
    {
      "cell_type": "code",
      "source": [
        "print(\"Angka kelipatan 3 dari 3 sampai 30: \")\n",
        "for i in range(3, 30):\n",
        "  if i % 3 == 0:\n",
        "    print(i)"
      ],
      "metadata": {
        "colab": {
          "base_uri": "https://localhost:8080/"
        },
        "id": "iCkIr_QcJHXU",
        "outputId": "982b874f-80e8-4730-c421-ab399f6469e8"
      },
      "execution_count": null,
      "outputs": [
        {
          "output_type": "stream",
          "name": "stdout",
          "text": [
            "Angka kelipatan 3 dari 3 sampai 30: \n",
            "3\n",
            "6\n",
            "9\n",
            "12\n",
            "15\n",
            "18\n",
            "21\n",
            "24\n",
            "27\n"
          ]
        }
      ]
    },
    {
      "cell_type": "markdown",
      "source": [
        "#Penugasan 02: Hitung Faktorial"
      ],
      "metadata": {
        "id": "uUPEnSPTK2js"
      }
    },
    {
      "cell_type": "code",
      "source": [
        "n = int(input(\"Masukkan bilangan: \"))\n",
        "\n",
        "faktorial = 1\n",
        "i = 1\n",
        "\n",
        "while i <= n:\n",
        "    faktorial *= i\n",
        "    i += 1\n",
        "\n",
        "print(\"Faktorial dari\", n, \"adalah\", faktorial)"
      ],
      "metadata": {
        "colab": {
          "base_uri": "https://localhost:8080/"
        },
        "id": "M8AkMlW-LDTh",
        "outputId": "2e9ac541-324b-46a3-c291-d70402c57e48"
      },
      "execution_count": null,
      "outputs": [
        {
          "output_type": "stream",
          "name": "stdout",
          "text": [
            "Masukkan bilangan: 5\n",
            "Faktorial dari 5 adalah 120\n"
          ]
        }
      ]
    },
    {
      "cell_type": "markdown",
      "source": [
        "#Penugasan 03: Pola Segitiga Terbalik"
      ],
      "metadata": {
        "id": "y5uJiG_wPL5r"
      }
    },
    {
      "cell_type": "code",
      "source": [
        "for i in range(5, 0, -1):\n",
        "  for j in range(i):\n",
        "    print(\"*\", end=\"\")\n",
        "  print()"
      ],
      "metadata": {
        "colab": {
          "base_uri": "https://localhost:8080/"
        },
        "outputId": "d2df704a-7a9e-408d-c873-e918fd56350f",
        "id": "t5hgf7SmStnN"
      },
      "execution_count": null,
      "outputs": [
        {
          "output_type": "stream",
          "name": "stdout",
          "text": [
            "*****\n",
            "****\n",
            "***\n",
            "**\n",
            "*\n"
          ]
        }
      ]
    },
    {
      "cell_type": "markdown",
      "source": [
        "#Penugasan 04: Cari Bilangan Prima dengan Break"
      ],
      "metadata": {
        "id": "OO7vTeBqT6gz"
      }
    },
    {
      "cell_type": "code",
      "source": [
        "n = int(input(\"Masukkan sebuah bilangan: \"))\n",
        "\n",
        "if n > 1:\n",
        "    for i in range(2, n):\n",
        "        if n % i == 0:\n",
        "            print(n, \"bukan bilangan prima karena bisa dibagi\", i)\n",
        "            break\n",
        "    else:\n",
        "        print(n, \"adalah bilangan prima\")\n",
        "else:\n",
        "    print(n, \"bukan bilangan prima\")"
      ],
      "metadata": {
        "colab": {
          "base_uri": "https://localhost:8080/"
        },
        "id": "1sIa4ZJIUFTD",
        "outputId": "1ba5de74-3e6a-4577-fbfd-358b47a90ad1"
      },
      "execution_count": null,
      "outputs": [
        {
          "output_type": "stream",
          "name": "stdout",
          "text": [
            "Masukkan sebuah bilangan: 8\n",
            "8 bukan bilangan prima karena bisa dibagi 2\n"
          ]
        }
      ]
    },
    {
      "cell_type": "markdown",
      "source": [
        "#Penugasan 05: Tampilkan Hanya Bilangan Genap dengan Continue"
      ],
      "metadata": {
        "id": "wVf1zSCsYlud"
      }
    },
    {
      "cell_type": "code",
      "source": [
        "for i in range(1, 20):\n",
        "  if i % 2 == 1:\n",
        "      continue\n",
        "  print(i)"
      ],
      "metadata": {
        "colab": {
          "base_uri": "https://localhost:8080/"
        },
        "id": "m-nTJGaVYvkb",
        "outputId": "bcfc1ea8-0673-436f-d65c-83ac02150914"
      },
      "execution_count": null,
      "outputs": [
        {
          "output_type": "stream",
          "name": "stdout",
          "text": [
            "2\n",
            "4\n",
            "6\n",
            "8\n",
            "10\n",
            "12\n",
            "14\n",
            "16\n",
            "18\n"
          ]
        }
      ]
    },
    {
      "cell_type": "markdown",
      "source": [
        "#Penugasan 06: Iterasi Dictionary Mahasiswa"
      ],
      "metadata": {
        "id": "J7yIX-K4ZGIq"
      }
    },
    {
      "cell_type": "code",
      "source": [
        "mahasiswa = {\"Nama\":\"Budi\", \"Umur\":21, \"Prodi\":\"Teknik Komputer\"}\n",
        "\n",
        "for k, v in mahasiswa.items():\n",
        "  print(k, \":\", v)"
      ],
      "metadata": {
        "colab": {
          "base_uri": "https://localhost:8080/"
        },
        "id": "D-H70nkpZN_h",
        "outputId": "0716dde3-a403-4178-83b8-a0dfea785a7d"
      },
      "execution_count": null,
      "outputs": [
        {
          "output_type": "stream",
          "name": "stdout",
          "text": [
            "Nama : Budi\n",
            "Umur : 21\n",
            "Prodi : Teknik Komputer\n"
          ]
        }
      ]
    },
    {
      "cell_type": "markdown",
      "source": [
        "#Penugasan 07: Enumerate Daftar Barang"
      ],
      "metadata": {
        "id": "YlFXwArXZv5S"
      }
    },
    {
      "cell_type": "code",
      "source": [
        "barang = [\"Buku\", \"Pulpen\", \"Tas\"]\n",
        "\n",
        "for i, nama in enumerate(barang, start=1):\n",
        "  print(i, nama)"
      ],
      "metadata": {
        "colab": {
          "base_uri": "https://localhost:8080/"
        },
        "id": "AZKJOun6Z2Eo",
        "outputId": "3fcc4e56-3bad-4e04-9d6f-425adb45f8e0"
      },
      "execution_count": null,
      "outputs": [
        {
          "output_type": "stream",
          "name": "stdout",
          "text": [
            "1 Buku\n",
            "2 Pulpen\n",
            "3 Tas\n"
          ]
        }
      ]
    },
    {
      "cell_type": "markdown",
      "source": [
        "#Penugasan 08: Studi Kasus-Kasir Diskon"
      ],
      "metadata": {
        "id": "HHApuue2aKoe"
      }
    },
    {
      "cell_type": "code",
      "source": [
        "total = 0\n",
        "\n",
        "while True:\n",
        "  barang = input(\"Masukkan nama barang (ketik 'selesai' untuk berhenti): \")\n",
        "  if barang.lower() == \"selesai\":\n",
        "    break\n",
        "  harga = float(input(f\"Masukkan harga {barang}: \"))\n",
        "  jumlah = int(input(f\"Masukkan jumlah {barang}: \"))\n",
        "  subtotal = harga * jumlah\n",
        "  total += subtotal\n",
        "  if total >= 200000:\n",
        "      diskon = 0.1\n",
        "  else:\n",
        "      diskon = 0\n",
        "\n",
        "bayar = total - (total * diskon)\n",
        "\n",
        "print(\"\\n===== Struk Belanja =====\")\n",
        "print(f\"Jumlah Barang : {jumlah}\")\n",
        "print(f\"Harga Barang  : {harga}\")\n",
        "print(f\"Total Harga   : {total}\")\n",
        "print(f\"Diskon Harga  : {diskon*100}%\")\n",
        "print(f\"Total Belanja : Rp {bayar}\")"
      ],
      "metadata": {
        "colab": {
          "base_uri": "https://localhost:8080/"
        },
        "id": "fYEQeC0SaKO4",
        "outputId": "dec4c5d1-0840-4486-85d2-5d00b558a502"
      },
      "execution_count": null,
      "outputs": [
        {
          "output_type": "stream",
          "name": "stdout",
          "text": [
            "Masukkan nama barang (ketik 'selesai' untuk berhenti): aqua\n",
            "Masukkan harga aqua: 100000\n",
            "Masukkan jumlah aqua: 10\n",
            "Masukkan nama barang (ketik 'selesai' untuk berhenti): selesai\n",
            "\n",
            "===== Struk Belanja =====\n",
            "Jumlah Barang : 10\n",
            "Harga Barang  : 100000.0\n",
            "Total Harga   : 1000000.0\n",
            "Diskon Harga  : 10.0%\n",
            "Total Belanja : Rp 900000.0\n"
          ]
        }
      ]
    }
  ]
}